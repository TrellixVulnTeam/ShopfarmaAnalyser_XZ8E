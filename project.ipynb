{
 "cells": [
  {
   "cell_type": "code",
   "execution_count": 1,
   "metadata": {},
   "outputs": [],
   "source": [
    "import pandas as pd \n",
    "from functions.ImportaRelatorios import VendasPorDatas"
   ]
  },
  {
   "cell_type": "code",
   "execution_count": 2,
   "metadata": {},
   "outputs": [
    {
     "data": {
      "text/html": [
       "<div>\n",
       "<style scoped>\n",
       "    .dataframe tbody tr th:only-of-type {\n",
       "        vertical-align: middle;\n",
       "    }\n",
       "\n",
       "    .dataframe tbody tr th {\n",
       "        vertical-align: top;\n",
       "    }\n",
       "\n",
       "    .dataframe thead th {\n",
       "        text-align: right;\n",
       "    }\n",
       "</style>\n",
       "<table border=\"1\" class=\"dataframe\">\n",
       "  <thead>\n",
       "    <tr style=\"text-align: right;\">\n",
       "      <th></th>\n",
       "      <th>DINHEIRO</th>\n",
       "      <th>CREDIÁRIO</th>\n",
       "      <th>CONVÊNIO</th>\n",
       "      <th>CARTÃO</th>\n",
       "      <th>TOTAL VENDAS</th>\n",
       "    </tr>\n",
       "    <tr>\n",
       "      <th>DATA</th>\n",
       "      <th></th>\n",
       "      <th></th>\n",
       "      <th></th>\n",
       "      <th></th>\n",
       "      <th></th>\n",
       "    </tr>\n",
       "  </thead>\n",
       "  <tbody>\n",
       "    <tr>\n",
       "      <th>2022-03-15</th>\n",
       "      <td>5001.01</td>\n",
       "      <td>165.87</td>\n",
       "      <td>172.16</td>\n",
       "      <td>13516.39</td>\n",
       "      <td>18855.43</td>\n",
       "    </tr>\n",
       "    <tr>\n",
       "      <th>2022-03-16</th>\n",
       "      <td>4723.32</td>\n",
       "      <td>640.89</td>\n",
       "      <td>468.35</td>\n",
       "      <td>12656.35</td>\n",
       "      <td>18488.91</td>\n",
       "    </tr>\n",
       "    <tr>\n",
       "      <th>2022-03-17</th>\n",
       "      <td>4630.61</td>\n",
       "      <td>276.75</td>\n",
       "      <td>54.98</td>\n",
       "      <td>14597.78</td>\n",
       "      <td>19560.12</td>\n",
       "    </tr>\n",
       "    <tr>\n",
       "      <th>2022-03-18</th>\n",
       "      <td>3883.39</td>\n",
       "      <td>135.09</td>\n",
       "      <td>334.75</td>\n",
       "      <td>10381.11</td>\n",
       "      <td>14734.34</td>\n",
       "    </tr>\n",
       "    <tr>\n",
       "      <th>2022-03-19</th>\n",
       "      <td>4402.19</td>\n",
       "      <td>93.88</td>\n",
       "      <td>228.89</td>\n",
       "      <td>11053.66</td>\n",
       "      <td>15778.62</td>\n",
       "    </tr>\n",
       "  </tbody>\n",
       "</table>\n",
       "</div>"
      ],
      "text/plain": [
       "            DINHEIRO  CREDIÁRIO  CONVÊNIO    CARTÃO  TOTAL VENDAS\n",
       "DATA                                                             \n",
       "2022-03-15   5001.01     165.87    172.16  13516.39      18855.43\n",
       "2022-03-16   4723.32     640.89    468.35  12656.35      18488.91\n",
       "2022-03-17   4630.61     276.75     54.98  14597.78      19560.12\n",
       "2022-03-18   3883.39     135.09    334.75  10381.11      14734.34\n",
       "2022-03-19   4402.19      93.88    228.89  11053.66      15778.62"
      ]
     },
     "execution_count": 2,
     "metadata": {},
     "output_type": "execute_result"
    }
   ],
   "source": [
    "df = VendasPorDatas()\n",
    "df.tail()"
   ]
  }
 ],
 "metadata": {
  "interpreter": {
   "hash": "ba42eb56875a897a19cb286dccd7597caf720cd6ef89a544a19a6b8d4accabe1"
  },
  "kernelspec": {
   "display_name": "Python 3.10.3 ('venv': venv)",
   "language": "python",
   "name": "python3"
  },
  "language_info": {
   "codemirror_mode": {
    "name": "ipython",
    "version": 3
   },
   "file_extension": ".py",
   "mimetype": "text/x-python",
   "name": "python",
   "nbconvert_exporter": "python",
   "pygments_lexer": "ipython3",
   "version": "3.10.3"
  },
  "orig_nbformat": 4
 },
 "nbformat": 4,
 "nbformat_minor": 2
}
